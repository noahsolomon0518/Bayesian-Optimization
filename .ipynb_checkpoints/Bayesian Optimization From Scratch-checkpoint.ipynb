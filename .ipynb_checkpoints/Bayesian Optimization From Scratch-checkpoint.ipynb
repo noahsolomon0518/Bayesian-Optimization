{
 "cells": [
  {
   "cell_type": "code",
   "execution_count": 2,
   "metadata": {},
   "outputs": [
    {
     "name": "stdout",
     "output_type": "stream",
     "text": [
      "Final weights are:  9.200000000000001 2.1\n"
     ]
    }
   ],
   "source": [
    "import numpy as np\n",
    "import matplotlib.pyplot as plt\n",
    "from BayesianOptimizer import BayesianOptimizer as BO\n",
    "\n",
    "\n",
    "x = [x for x in range(20)]\n",
    "y = [9*x+4.5 for x in range(20)]\n",
    "Bop = BO([0,10,0.1],[0,10,0.1])\n",
    "Bop.fit(x,y,5)\n",
    "    \n",
    "    "
   ]
  },
  {
   "cell_type": "code",
   "execution_count": 19,
   "metadata": {},
   "outputs": [],
   "source": [
    "B,W = np.meshgrid(np.arange(0,10,0.1),np.arange(0,10,0.1))\n",
    "B = [B for i in range(100)]\n",
    "W = [W for i in range(100)]\n",
    "Acc = np.array(Bop.GPRAccuracys).reshape(len(Bop.GPRAccuracys),100,100)\n",
    "AccPlusStd = Acc+np.array(Bop.GPRStd).reshape(len(Bop.GPRAccuracys),100,100)"
   ]
  },
  {
   "cell_type": "code",
   "execution_count": 41,
   "metadata": {},
   "outputs": [
    {
     "name": "stdout",
     "output_type": "stream",
     "text": [
      "Using matplotlib backend: Qt5Agg\n"
     ]
    }
   ],
   "source": [
    "from matplotlib import pyplot as plt\n",
    "import numpy as np\n",
    "from mpl_toolkits.mplot3d import Axes3D\n",
    "from matplotlib import animation\n",
    "%matplotlib\n",
    "\n",
    "\n",
    "\n",
    "def update(i):\n",
    "    scatter._offsets3d = ([Bop.paramHist[i][0]],[Bop.paramHist[i][1]],[Bop.scoreHist[i]])\n",
    "    global contour\n",
    "    contour.remove()\n",
    "    contour = ax.plot_surface(W[i],B[i],Acc[i], color = 'grey')\n",
    "\n",
    "\n",
    "\n",
    "fig = plt.figure()\n",
    "\n",
    "ax = fig.add_subplot(111, projection='3d')\n",
    "ax.title.set_text(\"GPR Distributions\")\n",
    "ax.set_xlabel(\"w\",c = 'b')\n",
    "ax.set_ylabel(\"b\",c = 'b')\n",
    "ax.set_zlabel(\"-MSE\",c = 'b')\n",
    "ax.set_xlim(-1, 10); ax.set_ylim(-1, 10); ax.set_zlim(-1000, 100);\n",
    "\n",
    "scatter = ax.scatter([0],[0],[0], s = 200)\n",
    "\n",
    "X,Y = np.meshgrid(np.arange(0,10,0.1),np.arange(0,10,0.1))\n",
    "Z = X*X-Y*Y\n",
    "\n",
    "contour = ax.plot_surface(W[0],B[0],Acc[0])\n",
    "\n",
    "\n",
    "ani = animation.FuncAnimation(fig, update, frames = np.arange(0,100,1), interval = 1000)\n",
    "#ani.save('GPRDistribution.gif', writer='imagemagick')\n",
    "\n"
   ]
  },
  {
   "cell_type": "code",
   "execution_count": null,
   "metadata": {},
   "outputs": [],
   "source": []
  }
 ],
 "metadata": {
  "kernelspec": {
   "display_name": "Python 3",
   "language": "python",
   "name": "python3"
  },
  "language_info": {
   "codemirror_mode": {
    "name": "ipython",
    "version": 3
   },
   "file_extension": ".py",
   "mimetype": "text/x-python",
   "name": "python",
   "nbconvert_exporter": "python",
   "pygments_lexer": "ipython3",
   "version": "3.7.7"
  }
 },
 "nbformat": 4,
 "nbformat_minor": 4
}
